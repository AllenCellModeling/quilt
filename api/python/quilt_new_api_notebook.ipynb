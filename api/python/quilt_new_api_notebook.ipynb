{
 "cells": [
  {
   "cell_type": "markdown",
   "metadata": {},
   "source": [
    "# Quilt 4 API (working title)"
   ]
  },
  {
   "cell_type": "markdown",
   "metadata": {},
   "source": [
    "This notebook serves as both living documentation and the integration test suite."
   ]
  },
  {
   "cell_type": "code",
   "execution_count": 1,
   "metadata": {},
   "outputs": [
    {
     "name": "stdout",
     "output_type": "stream",
     "text": [
      "Uninstalling quilt3-3.1.4:\n",
      "  Successfully uninstalled quilt3-3.1.4\n",
      "Obtaining file:///Users/armandmcqueen/code/quilt/api/python\n",
      "Requirement already satisfied: appdirs>=1.4.0 in /Users/armandmcqueen/code/quilt/.ignore/venv/lib/python3.7/site-packages (from quilt3==3.1.4) (1.4.3)\n",
      "Requirement already satisfied: aws-requests-auth>=0.4.2 in /Users/armandmcqueen/code/quilt/.ignore/venv/lib/python3.7/site-packages (from quilt3==3.1.4) (0.4.2)\n",
      "Requirement already satisfied: boto3>=1.8.0 in /Users/armandmcqueen/code/quilt/.ignore/venv/lib/python3.7/site-packages (from quilt3==3.1.4) (1.9.253)\n",
      "Requirement already satisfied: jsonlines==1.2.0 in /Users/armandmcqueen/code/quilt/.ignore/venv/lib/python3.7/site-packages (from quilt3==3.1.4) (1.2.0)\n",
      "Requirement already satisfied: packaging>=16.8 in /Users/armandmcqueen/code/quilt/.ignore/venv/lib/python3.7/site-packages (from quilt3==3.1.4) (19.2)\n",
      "Requirement already satisfied: requests>=2.12.4 in /Users/armandmcqueen/code/quilt/.ignore/venv/lib/python3.7/site-packages (from quilt3==3.1.4) (2.22.0)\n",
      "Requirement already satisfied: ruamel.yaml<=0.15.70 in /Users/armandmcqueen/code/quilt/.ignore/venv/lib/python3.7/site-packages (from quilt3==3.1.4) (0.15.70)\n",
      "Requirement already satisfied: tqdm>=4.26.0 in /Users/armandmcqueen/code/quilt/.ignore/venv/lib/python3.7/site-packages (from quilt3==3.1.4) (4.36.1)\n",
      "Requirement already satisfied: urllib3<1.25,>=1.21.1 in /Users/armandmcqueen/code/quilt/.ignore/venv/lib/python3.7/site-packages (from quilt3==3.1.4) (1.24.3)\n",
      "Requirement already satisfied: xattr>=0.9.6 in /Users/armandmcqueen/code/quilt/.ignore/venv/lib/python3.7/site-packages (from quilt3==3.1.4) (0.9.6)\n",
      "Requirement already satisfied: botocore<1.13.0,>=1.12.253 in /Users/armandmcqueen/code/quilt/.ignore/venv/lib/python3.7/site-packages (from boto3>=1.8.0->quilt3==3.1.4) (1.12.253)\n",
      "Requirement already satisfied: s3transfer<0.3.0,>=0.2.0 in /Users/armandmcqueen/code/quilt/.ignore/venv/lib/python3.7/site-packages (from boto3>=1.8.0->quilt3==3.1.4) (0.2.1)\n",
      "Requirement already satisfied: jmespath<1.0.0,>=0.7.1 in /Users/armandmcqueen/code/quilt/.ignore/venv/lib/python3.7/site-packages (from boto3>=1.8.0->quilt3==3.1.4) (0.9.4)\n",
      "Requirement already satisfied: six in /Users/armandmcqueen/code/quilt/.ignore/venv/lib/python3.7/site-packages (from jsonlines==1.2.0->quilt3==3.1.4) (1.12.0)\n",
      "Requirement already satisfied: pyparsing>=2.0.2 in /Users/armandmcqueen/code/quilt/.ignore/venv/lib/python3.7/site-packages (from packaging>=16.8->quilt3==3.1.4) (2.4.2)\n",
      "Requirement already satisfied: idna<2.9,>=2.5 in /Users/armandmcqueen/code/quilt/.ignore/venv/lib/python3.7/site-packages (from requests>=2.12.4->quilt3==3.1.4) (2.8)\n",
      "Requirement already satisfied: chardet<3.1.0,>=3.0.2 in /Users/armandmcqueen/code/quilt/.ignore/venv/lib/python3.7/site-packages (from requests>=2.12.4->quilt3==3.1.4) (3.0.4)\n",
      "Requirement already satisfied: certifi>=2017.4.17 in /Users/armandmcqueen/code/quilt/.ignore/venv/lib/python3.7/site-packages (from requests>=2.12.4->quilt3==3.1.4) (2019.9.11)\n",
      "Requirement already satisfied: cffi>=1.0.0 in /Users/armandmcqueen/code/quilt/.ignore/venv/lib/python3.7/site-packages (from xattr>=0.9.6->quilt3==3.1.4) (1.13.1)\n",
      "Requirement already satisfied: docutils<0.16,>=0.10 in /Users/armandmcqueen/code/quilt/.ignore/venv/lib/python3.7/site-packages (from botocore<1.13.0,>=1.12.253->boto3>=1.8.0->quilt3==3.1.4) (0.15.2)\n",
      "Requirement already satisfied: python-dateutil<3.0.0,>=2.1; python_version >= \"2.7\" in /Users/armandmcqueen/code/quilt/.ignore/venv/lib/python3.7/site-packages (from botocore<1.13.0,>=1.12.253->boto3>=1.8.0->quilt3==3.1.4) (2.8.0)\n",
      "Requirement already satisfied: pycparser in /Users/armandmcqueen/code/quilt/.ignore/venv/lib/python3.7/site-packages (from cffi>=1.0.0->xattr>=0.9.6->quilt3==3.1.4) (2.19)\n",
      "Installing collected packages: quilt3\n",
      "  Running setup.py develop for quilt3\n",
      "Successfully installed quilt3\n"
     ]
    }
   ],
   "source": [
    "!pip uninstall -y quilt3\n",
    "!pip install -e ."
   ]
  },
  {
   "cell_type": "code",
   "execution_count": 2,
   "metadata": {},
   "outputs": [],
   "source": [
    "!mkdir -p quilt-tmp\n",
    "!echo \"# README\\n\\n## This is a test dataset\" > quilt-tmp/README.md\n",
    "!echo \"test\" > quilt-tmp/testfile\n",
    "!echo \"test2\" > quilt-tmp/testfile2\n",
    "!echo \"test3\" > quilt-tmp/testfile3\n",
    "!echo \"test4\" > quilt-tmp/testfile4"
   ]
  },
  {
   "cell_type": "code",
   "execution_count": 3,
   "metadata": {},
   "outputs": [],
   "source": [
    "from quilt3.new_packages import (\n",
    "    Package, PackageEntry, PackageBuilder, \n",
    "    MockPackageWithoutInitLogic, QuiltAddCollisionException\n",
    ")\n",
    "import pandas as pd"
   ]
  },
  {
   "cell_type": "markdown",
   "metadata": {},
   "source": [
    "## Creating a `Package` with `PackageBuilder`\n",
    "\n",
    "### Adding entries to the `PackageBuilder`\n",
    "\n",
    "There are a number of ways to add entries to a PackageBuilder. We will illustrate several of those and then confirm that all the `PackageBuilders` create identical `Packages` at the end."
   ]
  },
  {
   "cell_type": "markdown",
   "metadata": {},
   "source": [
    "#### (1) Add files individually, with logical_key = physical_key"
   ]
  },
  {
   "cell_type": "code",
   "execution_count": 4,
   "metadata": {},
   "outputs": [],
   "source": [
    "pb1 = PackageBuilder()\n",
    "pb1.add_file(\"quilt-tmp/testfile\")\n",
    "pb1.add_file(\"quilt-tmp/README.md\")"
   ]
  },
  {
   "cell_type": "markdown",
   "metadata": {},
   "source": [
    "#### (2) Add files individually, specifying the logical key\n",
    "\n",
    "Note: there's no good reason to do that in this example, but we want all of our PackageBuilders to match at the end"
   ]
  },
  {
   "cell_type": "code",
   "execution_count": 5,
   "metadata": {},
   "outputs": [],
   "source": [
    "pb2 = PackageBuilder()\n",
    "pb2.add_file(\"quilt-tmp/testfile\",   \"./quilt-tmp/testfile\")\n",
    "pb2.add_file(\"quilt-tmp/README.md\",  \"./quilt-tmp/README.md\")"
   ]
  },
  {
   "cell_type": "markdown",
   "metadata": {},
   "source": [
    "#### (3) Add a directory, with logical_key = physical_key"
   ]
  },
  {
   "cell_type": "code",
   "execution_count": 6,
   "metadata": {},
   "outputs": [
    {
     "ename": "AttributeError",
     "evalue": "'str' object has no attribute 'scheme'",
     "output_type": "error",
     "traceback": [
      "\u001b[0;31m---------------------------------------------------------------------------\u001b[0m",
      "\u001b[0;31mAttributeError\u001b[0m                            Traceback (most recent call last)",
      "\u001b[0;32m<ipython-input-6-237d55121cb8>\u001b[0m in \u001b[0;36m<module>\u001b[0;34m\u001b[0m\n\u001b[1;32m      1\u001b[0m \u001b[0mpb3\u001b[0m \u001b[0;34m=\u001b[0m \u001b[0mPackageBuilder\u001b[0m\u001b[0;34m(\u001b[0m\u001b[0;34m)\u001b[0m\u001b[0;34m\u001b[0m\u001b[0;34m\u001b[0m\u001b[0m\n\u001b[0;32m----> 2\u001b[0;31m \u001b[0mpb3\u001b[0m\u001b[0;34m.\u001b[0m\u001b[0madd_dir\u001b[0m\u001b[0;34m(\u001b[0m\u001b[0;34m\"quilt-tmp/\"\u001b[0m\u001b[0;34m)\u001b[0m\u001b[0;34m\u001b[0m\u001b[0;34m\u001b[0m\u001b[0m\n\u001b[0m",
      "\u001b[0;32m~/code/quilt/api/python/quilt3/new_packages.py\u001b[0m in \u001b[0;36madd_dir\u001b[0;34m(self, logical_key_prefix, physical_key_dir, shared_metadata, overwrite)\u001b[0m\n\u001b[1;32m    786\u001b[0m             \u001b[0mself\u001b[0m\u001b[0;34m.\u001b[0m\u001b[0m_add_dir_s3\u001b[0m\u001b[0;34m(\u001b[0m\u001b[0mlogical_key_prefix\u001b[0m\u001b[0;34m,\u001b[0m \u001b[0mphysical_key_dir\u001b[0m\u001b[0;34m,\u001b[0m \u001b[0mshared_metadata\u001b[0m\u001b[0;34m,\u001b[0m \u001b[0moverwrite\u001b[0m\u001b[0;34m)\u001b[0m\u001b[0;34m\u001b[0m\u001b[0;34m\u001b[0m\u001b[0m\n\u001b[1;32m    787\u001b[0m         \u001b[0;32melse\u001b[0m\u001b[0;34m:\u001b[0m\u001b[0;34m\u001b[0m\u001b[0;34m\u001b[0m\u001b[0m\n\u001b[0;32m--> 788\u001b[0;31m             \u001b[0mself\u001b[0m\u001b[0;34m.\u001b[0m\u001b[0m_add_dir_local\u001b[0m\u001b[0;34m(\u001b[0m\u001b[0mlogical_key_prefix\u001b[0m\u001b[0;34m,\u001b[0m \u001b[0mphysical_key_dir\u001b[0m\u001b[0;34m,\u001b[0m \u001b[0mshared_metadata\u001b[0m\u001b[0;34m,\u001b[0m \u001b[0moverwrite\u001b[0m\u001b[0;34m)\u001b[0m\u001b[0;34m\u001b[0m\u001b[0;34m\u001b[0m\u001b[0m\n\u001b[0m\u001b[1;32m    789\u001b[0m \u001b[0;34m\u001b[0m\u001b[0m\n\u001b[1;32m    790\u001b[0m     \u001b[0;32mdef\u001b[0m \u001b[0madd_package\u001b[0m\u001b[0;34m(\u001b[0m\u001b[0mself\u001b[0m\u001b[0;34m,\u001b[0m \u001b[0mpkg\u001b[0m\u001b[0;34m,\u001b[0m \u001b[0moverwrite\u001b[0m\u001b[0;34m=\u001b[0m\u001b[0;32mFalse\u001b[0m\u001b[0;34m)\u001b[0m\u001b[0;34m:\u001b[0m\u001b[0;34m\u001b[0m\u001b[0;34m\u001b[0m\u001b[0m\n",
      "\u001b[0;32m~/code/quilt/api/python/quilt3/new_packages.py\u001b[0m in \u001b[0;36m_add_dir_local\u001b[0;34m(self, logical_key_prefix, local_dir, shared_metadata, overwrite)\u001b[0m\n\u001b[1;32m    761\u001b[0m \u001b[0;34m\u001b[0m\u001b[0m\n\u001b[1;32m    762\u001b[0m \u001b[0;34m\u001b[0m\u001b[0m\n\u001b[0;32m--> 763\u001b[0;31m         \u001b[0mdir_path\u001b[0m \u001b[0;34m=\u001b[0m \u001b[0mPath\u001b[0m\u001b[0;34m(\u001b[0m\u001b[0mparse_file_url\u001b[0m\u001b[0;34m(\u001b[0m\u001b[0mlocal_dir\u001b[0m\u001b[0;34m)\u001b[0m\u001b[0;34m)\u001b[0m\u001b[0;34m\u001b[0m\u001b[0;34m\u001b[0m\u001b[0m\n\u001b[0m\u001b[1;32m    764\u001b[0m         \u001b[0;32mif\u001b[0m \u001b[0;32mnot\u001b[0m \u001b[0mdir_path\u001b[0m\u001b[0;34m.\u001b[0m\u001b[0mis_dir\u001b[0m\u001b[0;34m(\u001b[0m\u001b[0;34m)\u001b[0m\u001b[0;34m:\u001b[0m\u001b[0;34m\u001b[0m\u001b[0;34m\u001b[0m\u001b[0m\n\u001b[1;32m    765\u001b[0m             \u001b[0;32mraise\u001b[0m \u001b[0mPackageException\u001b[0m\u001b[0;34m(\u001b[0m\u001b[0;34m\"The specified directory doesn't exist\"\u001b[0m\u001b[0;34m)\u001b[0m  \u001b[0;31m# TODO: Better exception\u001b[0m\u001b[0;34m\u001b[0m\u001b[0;34m\u001b[0m\u001b[0m\n",
      "\u001b[0;32m~/code/quilt/api/python/quilt3/util.py\u001b[0m in \u001b[0;36mparse_file_url\u001b[0;34m(file_url)\u001b[0m\n\u001b[1;32m    147\u001b[0m \u001b[0;34m\u001b[0m\u001b[0m\n\u001b[1;32m    148\u001b[0m \u001b[0;32mdef\u001b[0m \u001b[0mparse_file_url\u001b[0m\u001b[0;34m(\u001b[0m\u001b[0mfile_url\u001b[0m\u001b[0;34m)\u001b[0m\u001b[0;34m:\u001b[0m\u001b[0;34m\u001b[0m\u001b[0;34m\u001b[0m\u001b[0m\n\u001b[0;32m--> 149\u001b[0;31m     \u001b[0;32mif\u001b[0m \u001b[0mfile_url\u001b[0m\u001b[0;34m.\u001b[0m\u001b[0mscheme\u001b[0m \u001b[0;34m!=\u001b[0m \u001b[0;34m'file'\u001b[0m\u001b[0;34m:\u001b[0m\u001b[0;34m\u001b[0m\u001b[0;34m\u001b[0m\u001b[0m\n\u001b[0m\u001b[1;32m    150\u001b[0m         \u001b[0;32mraise\u001b[0m \u001b[0mValueError\u001b[0m\u001b[0;34m(\u001b[0m\u001b[0;34m\"Invalid file URI\"\u001b[0m\u001b[0;34m)\u001b[0m\u001b[0;34m\u001b[0m\u001b[0;34m\u001b[0m\u001b[0m\n\u001b[1;32m    151\u001b[0m     \u001b[0mpath\u001b[0m \u001b[0;34m=\u001b[0m \u001b[0murl2pathname\u001b[0m\u001b[0;34m(\u001b[0m\u001b[0mfile_url\u001b[0m\u001b[0;34m.\u001b[0m\u001b[0mpath\u001b[0m\u001b[0;34m)\u001b[0m\u001b[0;34m\u001b[0m\u001b[0;34m\u001b[0m\u001b[0m\n",
      "\u001b[0;31mAttributeError\u001b[0m: 'str' object has no attribute 'scheme'"
     ]
    }
   ],
   "source": [
    "pb3 = PackageBuilder()\n",
    "pb3.add_dir(\"quilt-tmp/\")"
   ]
  },
  {
   "cell_type": "markdown",
   "metadata": {},
   "source": [
    "#### (4) Add a directory, specifying the logical_key to use"
   ]
  },
  {
   "cell_type": "code",
   "execution_count": null,
   "metadata": {},
   "outputs": [],
   "source": [
    "pb4 = PackageBuilder()\n",
    "pb4.add_dir(\"quilt-tmp/\", \"./quilt-tmp/\")"
   ]
  },
  {
   "cell_type": "markdown",
   "metadata": {},
   "source": [
    "#### (5) Add a `PackageEntry` (i.e. one entry that comes from a `Package`)\n",
    "\n",
    "In practice you shouldn't ever need to create a `PackageEntry` directly, but we can for mocking purposes"
   ]
  },
  {
   "cell_type": "code",
   "execution_count": null,
   "metadata": {},
   "outputs": [],
   "source": [
    "pkg_name = \"bucket/package_name\"\n",
    "pkg_hash= \"some_fake_hash\"\n",
    "entry_hash = \"another_fake_hash\"\n",
    "\n",
    "entry1 = PackageEntry(logical_key=\"quilt-tmp/old_logical_key/testfile\", \n",
    "                      physical_key=\"quilt-tmp/testfile\", \n",
    "                      pkg_name=pkg_name, pkg_hash=pkg_hash, size=1, \n",
    "                      entry_hash=entry_hash, metadata={})\n",
    "\n",
    "entry2 = PackageEntry(logical_key=\"quilt-tmp/old_logical_key/README.md\", \n",
    "                      physical_key=\"quilt-tmp/README.md\", \n",
    "                      pkg_name=pkg_name,pkg_hash=pkg_hash, size=1, \n",
    "                      entry_hash=entry_hash, metadata={})\n",
    "\n",
    "pb5 = PackageBuilder()\n",
    "pb5.add_package_entry(\"quilt-tmp/testfile\", entry1)\n",
    "pb5.add_package_entry(\"quilt-tmp/README.md\", entry2)\n",
    "\n",
    "# Make sure we deep copied correctly\n",
    "entry1.logical_key = \"Incorrect logical key\""
   ]
  },
  {
   "cell_type": "markdown",
   "metadata": {},
   "source": [
    "#### (6) Add a `Package`"
   ]
  },
  {
   "cell_type": "code",
   "execution_count": null,
   "metadata": {},
   "outputs": [],
   "source": [
    "entryA = PackageEntry(logical_key=\"quilt-tmp/testfile\", \n",
    "                      physical_key=\"quilt-tmp/testfile\", \n",
    "                      pkg_name=pkg_name, pkg_hash=pkg_hash, size=1, \n",
    "                      entry_hash=entry_hash, metadata={})\n",
    "\n",
    "entryB = PackageEntry(logical_key=\"quilt-tmp/README.md\", \n",
    "                      physical_key=\"quilt-tmp/README.md\", \n",
    "                      pkg_name=pkg_name, pkg_hash=pkg_hash, size=1, \n",
    "                      entry_hash=entry_hash, metadata={})\n",
    "\n",
    "pkg = MockPackageWithoutInitLogic(pkg_name=pkg_name, pkg_tag=None, pkg_hash=pkg_hash, pkg_metadata={}, \n",
    "                                  pkg_entries=[entryA, entryB])\n",
    "\n",
    "pb6 = PackageBuilder()\n",
    "pb6.add_package(pkg)"
   ]
  },
  {
   "cell_type": "markdown",
   "metadata": {},
   "source": [
    "#### Make sure all of those `PackageBuilders` build identical `Packages`. \n",
    "\n",
    "(`PackageBuilders` can't be directly compared until they are built because the above the above `PackageBuilders` are very different under the hood - different types of `PackageBuilderEntries` in different states of completeness until `build`)"
   ]
  },
  {
   "cell_type": "code",
   "execution_count": null,
   "metadata": {},
   "outputs": [],
   "source": [
    "pkg1 = pb1.build(pkg_name, allow_local_files=True)\n",
    "pkg2 = pb2.build(pkg_name, allow_local_files=True)\n",
    "pkg3 = pb3.build(pkg_name, allow_local_files=True)\n",
    "pkg4 = pb4.build(pkg_name, allow_local_files=True)\n",
    "pkg5 = pb5.build(pkg_name, allow_local_files=True)\n",
    "pkg6 = pb6.build(pkg_name, allow_local_files=True)\n",
    "\n",
    "assert pkg1 == pkg2 == pkg3 == pkg4 == pkg5 == pkg6"
   ]
  },
  {
   "cell_type": "markdown",
   "metadata": {},
   "source": [
    "### `Adding` and logical_key collisions\n",
    "\n",
    "`Adding` should be a purely additive operation. If you have a `PackageBuilder` with logical_key='KEY' and add a file/dir/`Package` that also uses logical_key='KEY', the `add` will raise an Exception unless you explicitly specify `overwrite=True`. This is illustrated below"
   ]
  },
  {
   "cell_type": "code",
   "execution_count": null,
   "metadata": {},
   "outputs": [],
   "source": [
    "pb = PackageBuilder()\n",
    "pb.add_file(\"quilt-tmp/testfile\", \"quilt-tmp/testfile\")\n",
    "pb.add_file(\"quilt-tmp/README.md\", \"quilt-tmp/README.md\")\n",
    "pkg = pb.build(pkg_name, allow_local_files=True)"
   ]
  },
  {
   "cell_type": "markdown",
   "metadata": {},
   "source": [
    "Collision on 'quilt-tmp/README.md' that raises Exception"
   ]
  },
  {
   "cell_type": "code",
   "execution_count": null,
   "metadata": {},
   "outputs": [],
   "source": [
    "pb = PackageBuilder()\n",
    "pb.add_file(\"quilt-tmp/testfile2\", \"quilt-tmp/testfile2\")\n",
    "pb.add_file(\"quilt-tmp/README.md\", \"quilt-tmp/README.md\")\n",
    "\n",
    "exception_raised = False\n",
    "try:\n",
    "    pb.add_package(pkg)  # 'quilt-tmp/README.md' will cause a collision\n",
    "except QuiltAddCollisionException as ex:\n",
    "    exception_raised = True\n",
    "finally:\n",
    "    assert exception_raised"
   ]
  },
  {
   "cell_type": "markdown",
   "metadata": {},
   "source": [
    "No collision"
   ]
  },
  {
   "cell_type": "code",
   "execution_count": null,
   "metadata": {},
   "outputs": [],
   "source": [
    "pb = PackageBuilder()\n",
    "pb.add_file(\"quilt-tmp/testfile2\", \"quilt-tmp/testfile2\")\n",
    "\n",
    "exception_raised = False\n",
    "try:\n",
    "    pb.add_package(pkg)  # No longer have a collision\n",
    "except QuiltAddCollisionException as ex:\n",
    "    exception_raised = True\n",
    "finally:\n",
    "    assert not exception_raised"
   ]
  },
  {
   "cell_type": "code",
   "execution_count": null,
   "metadata": {},
   "outputs": [],
   "source": []
  },
  {
   "cell_type": "code",
   "execution_count": null,
   "metadata": {},
   "outputs": [],
   "source": []
  },
  {
   "cell_type": "code",
   "execution_count": null,
   "metadata": {},
   "outputs": [],
   "source": [
    "!rm -r quilt-tmp/"
   ]
  }
 ],
 "metadata": {
  "kernelspec": {
   "display_name": "Python 3",
   "language": "python",
   "name": "python3"
  },
  "language_info": {
   "codemirror_mode": {
    "name": "ipython",
    "version": 3
   },
   "file_extension": ".py",
   "mimetype": "text/x-python",
   "name": "python",
   "nbconvert_exporter": "python",
   "pygments_lexer": "ipython3",
   "version": "3.7.4"
  }
 },
 "nbformat": 4,
 "nbformat_minor": 2
}
